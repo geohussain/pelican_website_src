{
 "cells": [
  {
   "cell_type": "markdown",
   "metadata": {
    "collapsed": true
   },
   "source": [
    "## Harmonic wave solution\n",
    "Any function of the form $f(x \\pm vt)$ describes a propagating wave as a function of time and distance. A particularly useful form is a *harmonic* or sinusoidal wave:\n",
    "\\begin{equation}\n",
    "    u(x,t) = Ae^{i(wt \\pm kx)} = A \\cos (wt \\pm kx) + A i \\sin (wt \\pm kx).\n",
    "\\end{equation}\n",
    "\n",
    "To understand the harmonic wave solution, consider the wave given by the real part of $u(x,t)$, which is $A\\cos (wt-kx)$."
   ]
  },
  {
   "cell_type": "code",
   "execution_count": null,
   "metadata": {},
   "outputs": [],
   "source": []
  }
 ],
 "metadata": {
  "kernelspec": {
   "display_name": "Python 3",
   "language": "python",
   "name": "python3"
  },
  "language_info": {
   "codemirror_mode": {
    "name": "ipython",
    "version": 3
   },
   "file_extension": ".py",
   "mimetype": "text/x-python",
   "name": "python",
   "nbconvert_exporter": "python",
   "pygments_lexer": "ipython3",
   "version": "3.6.3"
  }
 },
 "nbformat": 4,
 "nbformat_minor": 1
}
