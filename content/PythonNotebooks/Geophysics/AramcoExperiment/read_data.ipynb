{
 "cells": [
  {
   "cell_type": "markdown",
   "metadata": {},
   "source": [
    "# Aramco Experiment\n",
    "## Reading and sorting data\n",
    "\n",
    "### Loading package and data\n",
    "Here I load the obspy, numpy and matplotlib packages for reading segy files, sorting and plotting data."
   ]
  },
  {
   "cell_type": "code",
   "execution_count": 1,
   "metadata": {},
   "outputs": [],
   "source": [
    "%matplotlib inline\n",
    "\n",
    "'''\n",
    "script to read, sort and save Aramco time-domain data\n",
    "'''\n",
    "# import numpy as np\n",
    "from obspy.io.segy.core import _read_segy\n",
    "import numpy as np\n",
    "import matplotlib.pyplot as plt\n",
    "\n",
    "# make fonts look latexy\n",
    "plt.rcParams['font.family'] = \"Times New Roman\"\n",
    "plt.rcParams['mathtext.fontset'] = \"cm\"\n",
    "DATA = _read_segy(\"synthetic.ricker.50Hz.sgy\")"
   ]
  },
  {
   "cell_type": "markdown",
   "metadata": {},
   "source": [
    "### Trace info\n",
    "For a specific trace number, this method outputs the source x and y positions and elevation info. It also outputs the same infor for the receiver."
   ]
  },
  {
   "cell_type": "code",
   "execution_count": 2,
   "metadata": {},
   "outputs": [],
   "source": [
    "def get_trace_info(trace_num, data=DATA):\n",
    "    '''\n",
    "    :param trace_num: index of trace to extract info from\n",
    "    :param data: the sgy data that contains all the traces\n",
    "    :return: prints all the relevant info of this trace\n",
    "    '''\n",
    "    print('----------------------------')\n",
    "    print('Source no. ' + str(trace_num) + ' info:')\n",
    "    print('----------------------------')\n",
    "    print('source x position: ' +\n",
    "          str(data[trace_num].\n",
    "              stats.segy.trace_header.source_coordinate_x))\n",
    "    print('source y position: ' +\n",
    "          str(data[trace_num].\n",
    "              stats.segy.trace_header.source_coordinate_y))\n",
    "    print('receiver x position: ' +\n",
    "          str(data[trace_num].\n",
    "              stats.segy.trace_header.group_coordinate_x))\n",
    "    print('receiver y position: ' +\n",
    "          str(data[trace_num].\n",
    "              stats.segy.trace_header.group_coordinate_y))\n",
    "    print('source elevation: ' +\n",
    "          str(data[trace_num].\n",
    "              stats.segy.trace_header.surface_elevation_at_source))\n",
    "    print('receiver elevation: ' +\n",
    "          str(data[trace_num].\n",
    "              stats.segy.trace_header.receiver_group_elevation))\n",
    "    print('\\n')"
   ]
  },
  {
   "cell_type": "markdown",
   "metadata": {},
   "source": [
    "### Trace plot\n",
    "Given a trace number, I plot that trace where the $x$ axis is the time and the $y$ axis is the amplitude."
   ]
  },
  {
   "cell_type": "code",
   "execution_count": 3,
   "metadata": {},
   "outputs": [],
   "source": [
    "def plot_trace(trace_num, data=DATA):\n",
    "    '''\n",
    "    :param trace_num: index of trace to extract info from\n",
    "    :param data: the sgy data that contains all the traces\n",
    "    :return: plots the input trace\n",
    "    '''\n",
    "    data[trace_num].plot()"
   ]
  },
  {
   "cell_type": "markdown",
   "metadata": {},
   "source": [
    "### First trace plot\n",
    "Here trace number is $(10 + 10 * 122 + 2 * 122 * 122)$ where this is (receiver_index_in_x + receiver_index_in_y * number_of_receivers_in_x + source_index * total_number_of_receivers)\n",
    "\n",
    "Here, I show info for a receiver at the index $(10,10)$ and for source number $2$. The receiver is close to the source, so I am expecting to get **early first arrivals**."
   ]
  },
  {
   "cell_type": "code",
   "execution_count": 4,
   "metadata": {},
   "outputs": [
    {
     "name": "stdout",
     "output_type": "stream",
     "text": [
      "----------------------------\n",
      "Source no. 30998 info:\n",
      "----------------------------\n",
      "source x position: 225\n",
      "source y position: 2725\n",
      "receiver x position: 1000\n",
      "receiver y position: 2100\n",
      "source elevation: 569\n",
      "receiver elevation: 584\n",
      "\n",
      "\n"
     ]
    },
    {
     "data": {
      "image/png": "[encoded data removed]",
      "text/plain": [
       "<Figure size 800x250 with 1 Axes>"
      ]
     },
     "metadata": {},
     "output_type": "display_data"
    }
   ],
   "source": [
    "get_trace_info(10 + 10 * 122 + 2 * 122 * 122)\n",
    "plot_trace(10 + 10 * 122 + 2 * 122 * 122)"
   ]
  },
  {
   "cell_type": "markdown",
   "metadata": {},
   "source": [
    "### Second trace plot\n",
    "Here trace number is $(10 + 10 * 122 + 58 * 122 * 122)$ where this is (receiver_index_in_x + receiver_index_in_y * number_of_receivers_in_x + source_index * total_number_of_receivers)\n",
    "\n",
    "Here, I show info for a receiver at the index $(10,10)$ and for source number $58$. The receiver is far from the source, so I am expecting to get **late first arrivals which I do**."
   ]
  },
  {
   "cell_type": "code",
   "execution_count": 5,
   "metadata": {},
   "outputs": [
    {
     "name": "stdout",
     "output_type": "stream",
     "text": [
      "----------------------------\n",
      "Source no. 864502 info:\n",
      "----------------------------\n",
      "source x position: 5825\n",
      "source y position: 2725\n",
      "receiver x position: 1000\n",
      "receiver y position: 2100\n",
      "source elevation: 577\n",
      "receiver elevation: 584\n",
      "\n",
      "\n"
     ]
    },
    {
     "data": {
      "image/png": "[encoded data removed]",
      "text/plain": [
       "<Figure size 800x250 with 1 Axes>"
      ]
     },
     "metadata": {},
     "output_type": "display_data"
    }
   ],
   "source": [
    "get_trace_info(10 + 10 * 122 + 58 * 122 * 122)\n",
    "plot_trace(10 + 10 * 122 + 58 * 122 * 122)"
   ]
  }
 ],
 "metadata": {
  "kernelspec": {
   "display_name": "Python 3",
   "language": "python",
   "name": "python3"
  },
  "language_info": {
   "codemirror_mode": {
    "name": "ipython",
    "version": 3
   },
   "file_extension": ".py",
   "mimetype": "text/x-python",
   "name": "python",
   "nbconvert_exporter": "python",
   "pygments_lexer": "ipython3",
   "version": "3.6.3"
  }
 },
 "nbformat": 4,
 "nbformat_minor": 1
}
